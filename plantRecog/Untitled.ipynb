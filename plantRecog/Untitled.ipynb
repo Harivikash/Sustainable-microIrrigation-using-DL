{
 "cells": [
  {
   "cell_type": "code",
   "execution_count": 5,
   "id": "324eeb0c",
   "metadata": {},
   "outputs": [],
   "source": [
    "import numpy as np\n",
    "import os\n",
    "import sys\n",
    "import tarfile\n",
    "from six.moves.urllib.request import urlretrieve\n",
    "from six.moves import cPickle as pickle\n",
    "from PIL import Image\n",
    "import math\n",
    "import random\n",
    "import re\n",
    "import scipy.io\n",
    "import PIL\n",
    "from numpy import *\n",
    "from pylab import *\n",
    "from PIL import Image\n",
    "from collections import defaultdict\n",
    "import tensorflow as tf\n",
    "import matplotlib.pyplot as plt"
   ]
  },
  {
   "cell_type": "code",
   "execution_count": 3,
   "id": "0f328cf6",
   "metadata": {},
   "outputs": [],
   "source": [
    "DROPOUT = 0.5\n",
    "LEARNING_RATE  = 0.1\n",
    "VALIDATION_SIZE = 0\n",
    "TRAINING_ITERATIONS = 50000\n",
    "WEIGHT_DECAY = 0.00005"
   ]
  },
  {
   "cell_type": "code",
   "execution_count": 10,
   "id": "84a6522f",
   "metadata": {},
   "outputs": [
    {
     "name": "stdout",
     "output_type": "stream",
     "text": [
      "C:\\Users\\mhari\\OneDrive\\Desktop\\ProjectREAL\\PlantReg\\plantRecog\n"
     ]
    }
   ],
   "source": [
    "print(os.path.abspath(\".\"))"
   ]
  },
  {
   "cell_type": "code",
   "execution_count": null,
   "id": "7e25baaa",
   "metadata": {},
   "outputs": [],
   "source": [
    "net_data = np.load(\"bvlc_alexnet.npy\",allow_pickle=True).item()"
   ]
  },
  {
   "cell_type": "code",
   "execution_count": null,
   "id": "91c9da7e",
   "metadata": {},
   "outputs": [],
   "source": []
  },
  {
   "cell_type": "code",
   "execution_count": null,
   "id": "210df4cf",
   "metadata": {},
   "outputs": [],
   "source": []
  }
 ],
 "metadata": {
  "kernelspec": {
   "display_name": "Python 3 (ipykernel)",
   "language": "python",
   "name": "python3"
  },
  "language_info": {
   "codemirror_mode": {
    "name": "ipython",
    "version": 3
   },
   "file_extension": ".py",
   "mimetype": "text/x-python",
   "name": "python",
   "nbconvert_exporter": "python",
   "pygments_lexer": "ipython3",
   "version": "3.9.18"
  }
 },
 "nbformat": 4,
 "nbformat_minor": 5
}
